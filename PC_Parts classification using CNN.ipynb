{
 "cells": [
  {
   "cell_type": "markdown",
   "id": "fadca0db",
   "metadata": {},
   "source": [
    "# PC_Parts  Image classification using CNN:-"
   ]
  },
  {
   "cell_type": "code",
   "execution_count": 1,
   "id": "092fddf0",
   "metadata": {},
   "outputs": [
    {
     "name": "stdout",
     "output_type": "stream",
     "text": [
      "WARNING:tensorflow:From C:\\Users\\kunal\\anaconda3\\Lib\\site-packages\\keras\\src\\losses.py:2976: The name tf.losses.sparse_softmax_cross_entropy is deprecated. Please use tf.compat.v1.losses.sparse_softmax_cross_entropy instead.\n",
      "\n"
     ]
    }
   ],
   "source": [
    "#import library:\n",
    "import numpy as np\n",
    "import tensorflow as tf\n",
    "from tensorflow.keras.models import Sequential\n",
    "from tensorflow.keras.layers import Conv2D, MaxPool2D, Flatten, Dense\n",
    "from tensorflow.keras.preprocessing.image import ImageDataGenerator\n",
    "import warnings\n",
    "warnings.filterwarnings(\"ignore\")"
   ]
  },
  {
   "cell_type": "code",
   "execution_count": 2,
   "id": "2cf852c0",
   "metadata": {},
   "outputs": [],
   "source": [
    "train_dir = r\"D:\\Dataset files_ML\\AI_project_Datasets\\pc_parts\""
   ]
  },
  {
   "cell_type": "code",
   "execution_count": 3,
   "id": "5ecd5f97",
   "metadata": {},
   "outputs": [
    {
     "data": {
      "text/plain": [
       "'D:\\\\Dataset files_ML\\\\AI_project_Datasets\\\\pc_parts'"
      ]
     },
     "execution_count": 3,
     "metadata": {},
     "output_type": "execute_result"
    }
   ],
   "source": [
    "train_dir"
   ]
  },
  {
   "cell_type": "code",
   "execution_count": 4,
   "id": "ab6e53bb",
   "metadata": {},
   "outputs": [
    {
     "data": {
      "text/plain": [
       "48"
      ]
     },
     "execution_count": 4,
     "metadata": {},
     "output_type": "execute_result"
    }
   ],
   "source": [
    "len(train_dir)"
   ]
  },
  {
   "cell_type": "code",
   "execution_count": 5,
   "id": "eaf6fecf",
   "metadata": {
    "scrolled": true
   },
   "outputs": [],
   "source": [
    "#create an ImageDataGenerator object for data augmentation:\n",
    "train_data_gen = ImageDataGenerator(\n",
    "    rescale=1.0/255,\n",
    "    rotation_range=20,\n",
    "    width_shift_range=0.2,\n",
    "    height_shift_range=0.2,\n",
    "    shear_range=0.2,\n",
    "    zoom_range=0.2,\n",
    "    horizontal_flip=True,\n",
    "    validation_split=0.2   # Use 20% of the data for validation\n",
    ")"
   ]
  },
  {
   "cell_type": "code",
   "execution_count": null,
   "id": "9660d28c",
   "metadata": {},
   "outputs": [],
   "source": []
  },
  {
   "cell_type": "code",
   "execution_count": 6,
   "id": "3d82c9c8",
   "metadata": {},
   "outputs": [],
   "source": [
    "width, heigth = 256, 256"
   ]
  },
  {
   "cell_type": "code",
   "execution_count": 7,
   "id": "3893ccb4",
   "metadata": {},
   "outputs": [
    {
     "name": "stdout",
     "output_type": "stream",
     "text": [
      "Found 2629 images belonging to 14 classes.\n"
     ]
    }
   ],
   "source": [
    "#create data generator for the training and test sets:\n",
    "train_generator = train_data_gen.flow_from_directory(\n",
    "    train_dir,\n",
    "    target_size=(width, heigth),\n",
    "    batch_size=32,\n",
    "    class_mode=\"categorical\",\n",
    "    subset=\"training\"\n",
    ")"
   ]
  },
  {
   "cell_type": "code",
   "execution_count": 8,
   "id": "2c56f486",
   "metadata": {},
   "outputs": [
    {
     "name": "stdout",
     "output_type": "stream",
     "text": [
      "Found 650 images belonging to 14 classes.\n"
     ]
    }
   ],
   "source": [
    "test_generator = train_data_gen.flow_from_directory(\n",
    "    train_dir,\n",
    "    target_size=(width, heigth),\n",
    "    batch_size=32,\n",
    "    class_mode=\"categorical\",\n",
    "    subset=\"validation\"\n",
    ")"
   ]
  },
  {
   "cell_type": "code",
   "execution_count": 9,
   "id": "4d424918",
   "metadata": {},
   "outputs": [
    {
     "name": "stdout",
     "output_type": "stream",
     "text": [
      "WARNING:tensorflow:From C:\\Users\\kunal\\anaconda3\\Lib\\site-packages\\keras\\src\\backend.py:873: The name tf.get_default_graph is deprecated. Please use tf.compat.v1.get_default_graph instead.\n",
      "\n",
      "WARNING:tensorflow:From C:\\Users\\kunal\\anaconda3\\Lib\\site-packages\\keras\\src\\layers\\pooling\\max_pooling2d.py:161: The name tf.nn.max_pool is deprecated. Please use tf.nn.max_pool2d instead.\n",
      "\n"
     ]
    }
   ],
   "source": [
    "#create an CNN  sequential model:\n",
    "model = Sequential([\n",
    "    Conv2D(32, (3,3), activation=\"relu\", input_shape=(width, heigth, 3)),\n",
    "    MaxPool2D((2,2)),\n",
    "    \n",
    "    Conv2D(64, (3,3), activation=\"relu\"),\n",
    "    MaxPool2D((2,2)),\n",
    "    \n",
    "    Conv2D(128, (3,3), activation=\"relu\"),\n",
    "    MaxPool2D((3,3)),\n",
    "    \n",
    "    Conv2D(128, (3,3), activation=\"relu\"),\n",
    "    MaxPool2D((3,3)),\n",
    "    \n",
    "    Flatten(),\n",
    "    Dense(256, activation=\"relu\"),\n",
    "    Dense(128, activation=\"relu\"),\n",
    "    Dense(14, activation=\"softmax\")\n",
    "])"
   ]
  },
  {
   "cell_type": "code",
   "execution_count": 10,
   "id": "9716181a",
   "metadata": {},
   "outputs": [
    {
     "name": "stdout",
     "output_type": "stream",
     "text": [
      "WARNING:tensorflow:From C:\\Users\\kunal\\anaconda3\\Lib\\site-packages\\keras\\src\\optimizers\\__init__.py:309: The name tf.train.Optimizer is deprecated. Please use tf.compat.v1.train.Optimizer instead.\n",
      "\n"
     ]
    }
   ],
   "source": [
    "#compile the model:\n",
    "model.compile(\n",
    "    optimizer=\"adam\",\n",
    "    loss=\"categorical_crossentropy\",\n",
    "    metrics=[\"accuracy\"]\n",
    ")"
   ]
  },
  {
   "cell_type": "code",
   "execution_count": 11,
   "id": "a7a15d5f",
   "metadata": {
    "scrolled": false
   },
   "outputs": [
    {
     "name": "stdout",
     "output_type": "stream",
     "text": [
      "Epoch 1/50\n",
      "WARNING:tensorflow:From C:\\Users\\kunal\\anaconda3\\Lib\\site-packages\\keras\\src\\utils\\tf_utils.py:492: The name tf.ragged.RaggedTensorValue is deprecated. Please use tf.compat.v1.ragged.RaggedTensorValue instead.\n",
      "\n",
      "WARNING:tensorflow:From C:\\Users\\kunal\\anaconda3\\Lib\\site-packages\\keras\\src\\engine\\base_layer_utils.py:384: The name tf.executing_eagerly_outside_functions is deprecated. Please use tf.compat.v1.executing_eagerly_outside_functions instead.\n",
      "\n",
      "83/83 [==============================] - 249s 3s/step - loss: 2.6302 - accuracy: 0.0848 - val_loss: 2.6153 - val_accuracy: 0.0908\n",
      "Epoch 2/50\n",
      "83/83 [==============================] - 254s 3s/step - loss: 2.6067 - accuracy: 0.1019 - val_loss: 2.5319 - val_accuracy: 0.1262\n",
      "Epoch 3/50\n",
      "83/83 [==============================] - 255s 3s/step - loss: 2.4837 - accuracy: 0.1483 - val_loss: 2.4120 - val_accuracy: 0.1400\n",
      "Epoch 4/50\n",
      "83/83 [==============================] - 260s 3s/step - loss: 2.4353 - accuracy: 0.1658 - val_loss: 2.3804 - val_accuracy: 0.2031\n",
      "Epoch 5/50\n",
      "83/83 [==============================] - 226s 3s/step - loss: 2.3235 - accuracy: 0.2145 - val_loss: 2.2834 - val_accuracy: 0.2385\n",
      "Epoch 6/50\n",
      "83/83 [==============================] - 205s 2s/step - loss: 2.2504 - accuracy: 0.2522 - val_loss: 2.2120 - val_accuracy: 0.2631\n",
      "Epoch 7/50\n",
      "83/83 [==============================] - 200s 2s/step - loss: 2.1519 - accuracy: 0.2929 - val_loss: 2.1152 - val_accuracy: 0.2985\n",
      "Epoch 8/50\n",
      "83/83 [==============================] - 198s 2s/step - loss: 2.0896 - accuracy: 0.3218 - val_loss: 2.0608 - val_accuracy: 0.3369\n",
      "Epoch 9/50\n",
      "83/83 [==============================] - 201s 2s/step - loss: 2.0318 - accuracy: 0.3404 - val_loss: 2.0484 - val_accuracy: 0.3154\n",
      "Epoch 10/50\n",
      "83/83 [==============================] - 208s 2s/step - loss: 1.9642 - accuracy: 0.3534 - val_loss: 2.0311 - val_accuracy: 0.2985\n",
      "Epoch 11/50\n",
      "83/83 [==============================] - 211s 3s/step - loss: 1.9240 - accuracy: 0.3769 - val_loss: 1.9880 - val_accuracy: 0.3554\n",
      "Epoch 12/50\n",
      "83/83 [==============================] - 231s 3s/step - loss: 1.8970 - accuracy: 0.3918 - val_loss: 1.9232 - val_accuracy: 0.3877\n",
      "Epoch 13/50\n",
      "83/83 [==============================] - 210s 3s/step - loss: 1.8536 - accuracy: 0.4032 - val_loss: 1.8728 - val_accuracy: 0.4154\n",
      "Epoch 14/50\n",
      "83/83 [==============================] - 226s 3s/step - loss: 1.7994 - accuracy: 0.4256 - val_loss: 1.9950 - val_accuracy: 0.3723\n",
      "Epoch 15/50\n",
      "83/83 [==============================] - 223s 3s/step - loss: 1.7631 - accuracy: 0.4306 - val_loss: 1.9016 - val_accuracy: 0.3831\n",
      "Epoch 16/50\n",
      "83/83 [==============================] - 219s 3s/step - loss: 1.7231 - accuracy: 0.4428 - val_loss: 1.8581 - val_accuracy: 0.4077\n",
      "Epoch 17/50\n",
      "83/83 [==============================] - 202s 2s/step - loss: 1.6825 - accuracy: 0.4679 - val_loss: 1.8293 - val_accuracy: 0.4169\n",
      "Epoch 18/50\n",
      "83/83 [==============================] - 194s 2s/step - loss: 1.6618 - accuracy: 0.4717 - val_loss: 2.0360 - val_accuracy: 0.3446\n",
      "Epoch 19/50\n",
      "83/83 [==============================] - 199s 2s/step - loss: 1.6494 - accuracy: 0.4656 - val_loss: 1.8266 - val_accuracy: 0.4123\n",
      "Epoch 20/50\n",
      "83/83 [==============================] - 192s 2s/step - loss: 1.5898 - accuracy: 0.4857 - val_loss: 1.8510 - val_accuracy: 0.4431\n",
      "Epoch 21/50\n",
      "83/83 [==============================] - 203s 2s/step - loss: 1.5420 - accuracy: 0.5105 - val_loss: 1.8758 - val_accuracy: 0.4154\n",
      "Epoch 22/50\n",
      "83/83 [==============================] - 192s 2s/step - loss: 1.5280 - accuracy: 0.5116 - val_loss: 1.8193 - val_accuracy: 0.3908\n",
      "Epoch 23/50\n",
      "83/83 [==============================] - 190s 2s/step - loss: 1.4836 - accuracy: 0.5169 - val_loss: 1.9075 - val_accuracy: 0.3985\n",
      "Epoch 24/50\n",
      "83/83 [==============================] - 192s 2s/step - loss: 1.4723 - accuracy: 0.5318 - val_loss: 1.8105 - val_accuracy: 0.4215\n",
      "Epoch 25/50\n",
      "83/83 [==============================] - 192s 2s/step - loss: 1.4610 - accuracy: 0.5299 - val_loss: 1.7574 - val_accuracy: 0.4415\n",
      "Epoch 26/50\n",
      "83/83 [==============================] - 192s 2s/step - loss: 1.4164 - accuracy: 0.5496 - val_loss: 1.6897 - val_accuracy: 0.4800\n",
      "Epoch 27/50\n",
      "83/83 [==============================] - 191s 2s/step - loss: 1.4149 - accuracy: 0.5344 - val_loss: 1.7532 - val_accuracy: 0.4585\n",
      "Epoch 28/50\n",
      "83/83 [==============================] - 192s 2s/step - loss: 1.3823 - accuracy: 0.5618 - val_loss: 1.6985 - val_accuracy: 0.4738\n",
      "Epoch 29/50\n",
      "83/83 [==============================] - 190s 2s/step - loss: 1.3448 - accuracy: 0.5690 - val_loss: 1.8123 - val_accuracy: 0.4508\n",
      "Epoch 30/50\n",
      "83/83 [==============================] - 199s 2s/step - loss: 1.3399 - accuracy: 0.5679 - val_loss: 1.7490 - val_accuracy: 0.4954\n",
      "Epoch 31/50\n",
      "83/83 [==============================] - 244s 3s/step - loss: 1.2737 - accuracy: 0.5907 - val_loss: 1.7320 - val_accuracy: 0.4723\n",
      "Epoch 32/50\n",
      "83/83 [==============================] - 244s 3s/step - loss: 1.2743 - accuracy: 0.5911 - val_loss: 1.7494 - val_accuracy: 0.4769\n",
      "Epoch 33/50\n",
      "83/83 [==============================] - 243s 3s/step - loss: 1.2636 - accuracy: 0.5972 - val_loss: 1.7552 - val_accuracy: 0.4754\n",
      "Epoch 34/50\n",
      "83/83 [==============================] - 243s 3s/step - loss: 1.2034 - accuracy: 0.6124 - val_loss: 1.7871 - val_accuracy: 0.4738\n",
      "Epoch 35/50\n",
      "83/83 [==============================] - 244s 3s/step - loss: 1.2077 - accuracy: 0.6025 - val_loss: 1.7841 - val_accuracy: 0.4462\n",
      "Epoch 36/50\n",
      "83/83 [==============================] - 243s 3s/step - loss: 1.1725 - accuracy: 0.6128 - val_loss: 1.7420 - val_accuracy: 0.4892\n",
      "Epoch 37/50\n",
      "83/83 [==============================] - 244s 3s/step - loss: 1.1672 - accuracy: 0.6242 - val_loss: 1.9304 - val_accuracy: 0.4554\n",
      "Epoch 38/50\n",
      "83/83 [==============================] - 243s 3s/step - loss: 1.1610 - accuracy: 0.6219 - val_loss: 1.7878 - val_accuracy: 0.4785\n",
      "Epoch 39/50\n",
      "83/83 [==============================] - 243s 3s/step - loss: 1.1729 - accuracy: 0.6170 - val_loss: 1.7409 - val_accuracy: 0.4692\n",
      "Epoch 40/50\n",
      "83/83 [==============================] - 243s 3s/step - loss: 1.0857 - accuracy: 0.6501 - val_loss: 1.8292 - val_accuracy: 0.4723\n",
      "Epoch 41/50\n",
      "83/83 [==============================] - 246s 3s/step - loss: 1.1250 - accuracy: 0.6265 - val_loss: 1.8153 - val_accuracy: 0.4738\n",
      "Epoch 42/50\n",
      "83/83 [==============================] - 246s 3s/step - loss: 1.0607 - accuracy: 0.6618 - val_loss: 1.9205 - val_accuracy: 0.4369\n",
      "Epoch 43/50\n",
      "83/83 [==============================] - 242s 3s/step - loss: 1.1399 - accuracy: 0.6310 - val_loss: 1.8916 - val_accuracy: 0.4723\n",
      "Epoch 44/50\n",
      "83/83 [==============================] - 243s 3s/step - loss: 1.1159 - accuracy: 0.6299 - val_loss: 1.8085 - val_accuracy: 0.4431\n",
      "Epoch 45/50\n",
      "83/83 [==============================] - 241s 3s/step - loss: 1.0696 - accuracy: 0.6550 - val_loss: 1.7765 - val_accuracy: 0.4862\n",
      "Epoch 46/50\n",
      "83/83 [==============================] - 2490s 30s/step - loss: 1.0240 - accuracy: 0.6687 - val_loss: 1.8055 - val_accuracy: 0.4892\n",
      "Epoch 47/50\n",
      "83/83 [==============================] - 239s 3s/step - loss: 0.9879 - accuracy: 0.6812 - val_loss: 1.8628 - val_accuracy: 0.4523\n",
      "Epoch 48/50\n",
      "83/83 [==============================] - 247s 3s/step - loss: 0.9668 - accuracy: 0.6824 - val_loss: 1.8774 - val_accuracy: 0.4877\n",
      "Epoch 49/50\n",
      "83/83 [==============================] - 245s 3s/step - loss: 0.9913 - accuracy: 0.6812 - val_loss: 1.8570 - val_accuracy: 0.4969\n",
      "Epoch 50/50\n",
      "83/83 [==============================] - 252s 3s/step - loss: 0.9444 - accuracy: 0.6930 - val_loss: 1.8788 - val_accuracy: 0.4785\n"
     ]
    }
   ],
   "source": [
    "#Train the model:\n",
    "history = model.fit(\n",
    "    train_generator,\n",
    "    epochs=50,\n",
    "    batch_size=32,\n",
    "    validation_data=test_generator\n",
    ")"
   ]
  },
  {
   "cell_type": "code",
   "execution_count": 12,
   "id": "1de987a5",
   "metadata": {},
   "outputs": [],
   "source": [
    "import matplotlib.pyplot as plt "
   ]
  },
  {
   "cell_type": "code",
   "execution_count": 13,
   "id": "3dd854e8",
   "metadata": {},
   "outputs": [
    {
     "data": {
      "image/png": "[encoded data removed]",
      "text/plain": [
       "<Figure size 640x480 with 1 Axes>"
      ]
     },
     "metadata": {},
     "output_type": "display_data"
    }
   ],
   "source": [
    "#plot training and validation accuracy:\n",
    "plt.plot(history.history[\"accuracy\"], label=\"Traning_accuracy\")\n",
    "plt.plot(history.history[\"val_accuracy\"], label=\"validation_accuracy\")\n",
    "plt.xlabel(\"Epochs\")\n",
    "plt.ylabel(\"Accuracy\")\n",
    "plt.title(\"Training and validation accuracy\")\n",
    "plt.legend()\n",
    "plt.show()"
   ]
  },
  {
   "cell_type": "code",
   "execution_count": 14,
   "id": "6b6fabdd",
   "metadata": {},
   "outputs": [
    {
     "data": {
      "image/png": "[encoded data removed]",
      "text/plain": [
       "<Figure size 640x480 with 1 Axes>"
      ]
     },
     "metadata": {},
     "output_type": "display_data"
    }
   ],
   "source": [
    "#plot training and validation loss:\n",
    "plt.plot(history.history[\"loss\"], label=\"Traning_loss\")\n",
    "plt.plot(history.history[\"val_loss\"], label=\"validation_loss\")\n",
    "plt.xlabel(\"Epochs\")\n",
    "plt.ylabel(\"Loss\")\n",
    "plt.title(\"Training and validation Loss\")\n",
    "plt.legend()\n",
    "plt.show()"
   ]
  },
  {
   "cell_type": "code",
   "execution_count": 15,
   "id": "f21c827d",
   "metadata": {},
   "outputs": [
    {
     "name": "stdout",
     "output_type": "stream",
     "text": [
      "PC_Parts class names:- {0: 'cables', 1: 'case', 2: 'cpu', 3: 'gpu', 4: 'hdd', 5: 'headset', 6: 'keyboard', 7: 'microphone', 8: 'monitor', 9: 'motherboard', 10: 'mouse', 11: 'ram', 12: 'speakers', 13: 'webcam'}\n"
     ]
    }
   ],
   "source": [
    "#Get the class names and indices from the test generator:-\n",
    "class_names = test_generator.class_indices\n",
    "classes = {value:key for key, value in class_names.items()}\n",
    "print(\"PC_Parts class names:-\", classes)"
   ]
  },
  {
   "cell_type": "code",
   "execution_count": 16,
   "id": "f9cb1f0b",
   "metadata": {},
   "outputs": [],
   "source": [
    "from tensorflow.keras.preprocessing import image"
   ]
  },
  {
   "cell_type": "code",
   "execution_count": 42,
   "id": "e23b59ee",
   "metadata": {},
   "outputs": [],
   "source": [
    "#Define the path to the image file:\n",
    "image_path = r\"D:\\Dataset files_ML\\AI_project_Datasets\\pc_parts\\case/5.jpg\""
   ]
  },
  {
   "cell_type": "code",
   "execution_count": 43,
   "id": "d52ce474",
   "metadata": {},
   "outputs": [],
   "source": [
    "#Load the image and resize it to the target_size:\n",
    "Image = image.load_img(image_path, target_size=(width, heigth))"
   ]
  },
  {
   "cell_type": "code",
   "execution_count": 44,
   "id": "94b9f695",
   "metadata": {},
   "outputs": [],
   "source": [
    "#convert the image to as numpy array and normlize it:\n",
    "image_arr = image.img_to_array(Image)"
   ]
  },
  {
   "cell_type": "code",
   "execution_count": 45,
   "id": "6369da3f",
   "metadata": {},
   "outputs": [],
   "source": [
    "image_arr = np.expand_dims(image_arr, axis=0)"
   ]
  },
  {
   "cell_type": "code",
   "execution_count": 46,
   "id": "441b4576",
   "metadata": {},
   "outputs": [],
   "source": [
    "image_arr = image_arr / 255"
   ]
  },
  {
   "cell_type": "code",
   "execution_count": 47,
   "id": "f1b29d5a",
   "metadata": {},
   "outputs": [
    {
     "name": "stdout",
     "output_type": "stream",
     "text": [
      "1/1 [==============================] - 0s 78ms/step\n"
     ]
    }
   ],
   "source": [
    "#Make a prediction using the model:\n",
    "predict = model.predict(image_arr)"
   ]
  },
  {
   "cell_type": "code",
   "execution_count": 48,
   "id": "d2b1da46",
   "metadata": {},
   "outputs": [
    {
     "data": {
      "text/plain": [
       "1"
      ]
     },
     "execution_count": 48,
     "metadata": {},
     "output_type": "execute_result"
    }
   ],
   "source": [
    "#To find the predict class index:\n",
    "predicted_class = np.argmax(predict)\n",
    "predicted_class "
   ]
  },
  {
   "cell_type": "code",
   "execution_count": 49,
   "id": "a43d338d",
   "metadata": {},
   "outputs": [
    {
     "name": "stdout",
     "output_type": "stream",
     "text": [
      "The predicted class of the PC_parts image is:- case\n"
     ]
    }
   ],
   "source": [
    "#print the predict class:\n",
    "print(\"The predicted class of the PC_parts image is:-\", classes[predicted_class])"
   ]
  },
  {
   "cell_type": "code",
   "execution_count": 54,
   "id": "0ee5b5c5",
   "metadata": {},
   "outputs": [],
   "source": [
    "image_path_1 = r\"D:\\Dataset files_ML\\AI_project_Datasets\\pc_parts\\motherboard/24.jpg\""
   ]
  },
  {
   "cell_type": "code",
   "execution_count": 55,
   "id": "b6c0cf99",
   "metadata": {},
   "outputs": [],
   "source": [
    "Image = image.load_img(image_path_1, target_size=(width, heigth))\n",
    "image_arr = image.img_to_array(Image)\n",
    "image_arr = np.expand_dims(image_arr, axis=0)\n",
    "image_arr = image_arr / 255"
   ]
  },
  {
   "cell_type": "code",
   "execution_count": 56,
   "id": "59ae6e3e",
   "metadata": {},
   "outputs": [
    {
     "name": "stdout",
     "output_type": "stream",
     "text": [
      "1/1 [==============================] - 0s 71ms/step\n"
     ]
    }
   ],
   "source": [
    "#predict class:\n",
    "predict1 = model.predict(image_arr)"
   ]
  },
  {
   "cell_type": "code",
   "execution_count": 57,
   "id": "bd5c2a5e",
   "metadata": {},
   "outputs": [
    {
     "data": {
      "text/plain": [
       "9"
      ]
     },
     "execution_count": 57,
     "metadata": {},
     "output_type": "execute_result"
    }
   ],
   "source": [
    "#find 2nd predict class index: \n",
    "predicted_class = np.argmax(predict1)\n",
    "predicted_class"
   ]
  },
  {
   "cell_type": "code",
   "execution_count": 58,
   "id": "30c048bd",
   "metadata": {},
   "outputs": [
    {
     "name": "stdout",
     "output_type": "stream",
     "text": [
      "The predicted class of the PC_parts image is:- motherboard\n"
     ]
    }
   ],
   "source": [
    "#predict class name:\n",
    "print(\"The predicted class of the PC_parts image is:-\", classes[predicted_class]) "
   ]
  },
  {
   "cell_type": "markdown",
   "id": "ba0262d3",
   "metadata": {},
   "source": [
    "# In Summary:-"
   ]
  },
  {
   "cell_type": "markdown",
   "id": "bd8f9786",
   "metadata": {},
   "source": [
    "The pc_parts Convolutional Neural Network (CNN) models in both graphs show good potential for classification, achieving accuracy/loss and also validation accuracy."
   ]
  },
  {
   "cell_type": "markdown",
   "id": "f4cf2f01",
   "metadata": {},
   "source": [
    "However, further evaluation on a larger dataset is recommended for confirmation. Using graph it can show the Training, validation accuracy and Training, validation Loss. While in train the model it can 50 epochs only, but the accuracy is definetly increases / and loss also decreses, So overall result is teh pc_parts CNN model is perfectly train/test."
   ]
  },
  {
   "cell_type": "markdown",
   "id": "e06a7789",
   "metadata": {},
   "source": [
    "And Finally, :- Trained CNN model demonstrates promising performance on [dataset], achieving [accuracy/loss] of [value] on validation data with limited overfitting potential. Further evaluation on a larger dataset is recommended."
   ]
  },
  {
   "cell_type": "code",
   "execution_count": null,
   "id": "0240ce72",
   "metadata": {},
   "outputs": [],
   "source": []
  }
 ],
 "metadata": {
  "kernelspec": {
   "display_name": "Python 3 (ipykernel)",
   "language": "python",
   "name": "python3"
  },
  "language_info": {
   "codemirror_mode": {
    "name": "ipython",
    "version": 3
   },
   "file_extension": ".py",
   "mimetype": "text/x-python",
   "name": "python",
   "nbconvert_exporter": "python",
   "pygments_lexer": "ipython3",
   "version": "3.11.5"
  }
 },
 "nbformat": 4,
 "nbformat_minor": 5
}
